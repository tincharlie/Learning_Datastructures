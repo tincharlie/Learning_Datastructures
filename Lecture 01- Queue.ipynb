{
 "cells": [
  {
   "cell_type": "markdown",
   "id": "8cb398e8",
   "metadata": {},
   "source": [
    "## We can implement using two mehtods.\n",
    "## 1. `Using List`\n",
    "## 2. `Using Module`\n",
    "\n",
    "\n",
    "## Using List\n",
    "#### Here it is called user defined datastructures, Follows FIFO: First In First Out, & LILO: Last In Last Out. Thus we have back|rear|tail and Front|Head concept, Eg. Like if you have to book a train ticket and you are standing in the line.\n",
    "###    using pop(0)\n",
    "    [1, 2, 3, 4, 5] \n",
    "       [2, 3, 4, 5]\n",
    "          [3, 4, 5]\n",
    "             [4, 5]\n",
    "                [5]\n",
    "                 []"
   ]
  },
  {
   "cell_type": "code",
   "execution_count": 1,
   "id": "6bde4a2e",
   "metadata": {},
   "outputs": [
    {
     "data": {
      "text/plain": [
       "[10, 20, 30, 40, 50]"
      ]
     },
     "execution_count": 1,
     "metadata": {},
     "output_type": "execute_result"
    }
   ],
   "source": [
    "queue = []\n",
    "queue.append(10)\n",
    "queue.append(20)\n",
    "queue.append(30)\n",
    "queue.append(40)\n",
    "queue.append(50)\n",
    "queue"
   ]
  },
  {
   "cell_type": "code",
   "execution_count": 2,
   "id": "01f3e7cb",
   "metadata": {},
   "outputs": [
    {
     "name": "stdout",
     "output_type": "stream",
     "text": [
      "[20, 30, 40, 50]\n",
      "[30, 40, 50]\n",
      "[40, 50]\n",
      "[50]\n",
      "[]\n"
     ]
    }
   ],
   "source": [
    "\n",
    "try:\n",
    "    queue.pop(0)\n",
    "    print(queue)\n",
    "    queue.pop(0)\n",
    "    print(queue)\n",
    "    queue.pop(0)\n",
    "    print(queue)\n",
    "    queue.pop(0)\n",
    "    print(queue)\n",
    "    queue.pop(0)\n",
    "    print(queue)\n",
    "\n",
    "except IndexError:\n",
    "    print(\"empty list\")"
   ]
  },
  {
   "cell_type": "code",
   "execution_count": 4,
   "id": "19291915",
   "metadata": {},
   "outputs": [
    {
     "data": {
      "text/plain": [
       "[50, 40, 30, 20, 10]"
      ]
     },
     "execution_count": 4,
     "metadata": {},
     "output_type": "execute_result"
    }
   ],
   "source": [
    "queue = []\n",
    "queue.insert(0,10)\n",
    "queue.insert(0,20)\n",
    "queue.insert(0,30)\n",
    "queue.insert(0,40)\n",
    "queue.insert(0,50)\n",
    "queue"
   ]
  },
  {
   "cell_type": "code",
   "execution_count": 5,
   "id": "baafc832",
   "metadata": {},
   "outputs": [
    {
     "name": "stdout",
     "output_type": "stream",
     "text": [
      "[50, 40, 30, 20]\n",
      "[50, 40, 30]\n",
      "[50, 40]\n",
      "[50]\n",
      "[]\n"
     ]
    }
   ],
   "source": [
    "queue.pop()\n",
    "print(queue)\n",
    "queue.pop()\n",
    "print(queue)\n",
    "queue.pop()\n",
    "print(queue)\n",
    "queue.pop()\n",
    "print(queue)\n",
    "queue.pop()\n",
    "print(queue)"
   ]
  },
  {
   "cell_type": "code",
   "execution_count": 7,
   "id": "5ecd1d31",
   "metadata": {},
   "outputs": [
    {
     "name": "stdout",
     "output_type": "stream",
     "text": [
      "Select 1: Push, 2: Pop Element, 3: Quit\n",
      "1\n",
      "Enter the elems:20\n",
      "['20']\n",
      "Select 1: Push, 2: Pop Element, 3: Quit\n",
      "1\n",
      "Enter the elems:100\n",
      "['20', '100']\n",
      "Select 1: Push, 2: Pop Element, 3: Quit\n",
      "20\n",
      "Enter the correct operation\n",
      "Select 1: Push, 2: Pop Element, 3: Quit\n",
      "1\n",
      "Enter the elems:20\n",
      "['20', '100', '20']\n",
      "Select 1: Push, 2: Pop Element, 3: Quit\n",
      "130\n",
      "Enter the correct operation\n",
      "Select 1: Push, 2: Pop Element, 3: Quit\n",
      "1\n",
      "Enter the elems:130\n",
      "['20', '100', '20', '130']\n",
      "Select 1: Push, 2: Pop Element, 3: Quit\n",
      "2\n",
      "Remove Element:  20\n",
      "['100', '20', '130']\n",
      "Select 1: Push, 2: Pop Element, 3: Quit\n",
      "2\n",
      "Remove Element:  100\n",
      "['20', '130']\n",
      "Select 1: Push, 2: Pop Element, 3: Quit\n",
      "\n"
     ]
    },
    {
     "ename": "ValueError",
     "evalue": "invalid literal for int() with base 10: ''",
     "output_type": "error",
     "traceback": [
      "\u001b[1;31m---------------------------------------------------------------------------\u001b[0m",
      "\u001b[1;31mValueError\u001b[0m                                Traceback (most recent call last)",
      "\u001b[1;32m<ipython-input-7-831f2be718ec>\u001b[0m in \u001b[0;36m<module>\u001b[1;34m\u001b[0m\n\u001b[0;32m     17\u001b[0m \u001b[1;32mwhile\u001b[0m \u001b[1;32mTrue\u001b[0m\u001b[1;33m:\u001b[0m\u001b[1;33m\u001b[0m\u001b[1;33m\u001b[0m\u001b[0m\n\u001b[0;32m     18\u001b[0m     \u001b[0mprint\u001b[0m\u001b[1;33m(\u001b[0m\u001b[1;34m\"Select 1: Push, 2: Pop Element, 3: Quit\"\u001b[0m\u001b[1;33m)\u001b[0m\u001b[1;33m\u001b[0m\u001b[1;33m\u001b[0m\u001b[0m\n\u001b[1;32m---> 19\u001b[1;33m     \u001b[0mchoice\u001b[0m \u001b[1;33m=\u001b[0m \u001b[0mint\u001b[0m\u001b[1;33m(\u001b[0m\u001b[0minput\u001b[0m\u001b[1;33m(\u001b[0m\u001b[1;33m)\u001b[0m\u001b[1;33m)\u001b[0m\u001b[1;33m\u001b[0m\u001b[1;33m\u001b[0m\u001b[0m\n\u001b[0m\u001b[0;32m     20\u001b[0m \u001b[1;33m\u001b[0m\u001b[0m\n\u001b[0;32m     21\u001b[0m     \u001b[1;32mif\u001b[0m \u001b[0mchoice\u001b[0m \u001b[1;33m==\u001b[0m \u001b[1;36m1\u001b[0m\u001b[1;33m:\u001b[0m\u001b[1;33m\u001b[0m\u001b[1;33m\u001b[0m\u001b[0m\n",
      "\u001b[1;31mValueError\u001b[0m: invalid literal for int() with base 10: ''"
     ]
    }
   ],
   "source": [
    "queue = []\n",
    "def push():\n",
    "    element = input(\"Enter the elems:\")\n",
    "    queue.append(element)\n",
    "    print(queue)\n",
    "    \n",
    "def pop_elems():\n",
    "    if not queue:\n",
    "        print(\"queue is empty\")\n",
    "    else:\n",
    "        e = queue.pop(0)\n",
    "        print(\"Remove Element: \", e)\n",
    "        print(queue)\n",
    "        \n",
    "## While is using bcs it will run until i will quit the loop.\n",
    "\n",
    "while True:\n",
    "    print(\"Select 1: Push, 2: Pop Element, 3: Quit\")\n",
    "    choice = int(input())\n",
    "    \n",
    "    if choice == 1:\n",
    "        push()\n",
    "        \n",
    "    elif choice == 2:\n",
    "        pop_elems()\n",
    "        \n",
    "    elif choice == 3:\n",
    "        break\n",
    "    \n",
    "    else:\n",
    "        print(\"Enter the correct operation\")"
   ]
  },
  {
   "cell_type": "code",
   "execution_count": 10,
   "id": "e947244b",
   "metadata": {},
   "outputs": [
    {
     "name": "stdout",
     "output_type": "stream",
     "text": [
      "limit of queue: 4\n",
      "Select 1: Push, 2: Pop Element, 3: Display, 4: Quit\n",
      "1\n",
      "Enter the elems:2\n",
      "['2']\n",
      "Select 1: Push, 2: Pop Element, 3: Display, 4: Quit\n",
      "1\n",
      "Enter the elems:3\n",
      "['2', '3']\n",
      "Select 1: Push, 2: Pop Element, 3: Display, 4: Quit\n",
      "1\n",
      "Enter the elems:4\n",
      "['2', '3', '4']\n",
      "Select 1: Push, 2: Pop Element, 3: Display, 4: Quit\n",
      "3\n",
      "['2', '3', '4']\n",
      "Select 1: Push, 2: Pop Element, 3: Display, 4: Quit\n",
      "4\n"
     ]
    }
   ],
   "source": [
    "##### queue = []\n",
    "def enqueue():\n",
    "    \n",
    "    if len(queue) == n:\n",
    "        print(\"List is full\")\n",
    "    else:\n",
    "        element = input(\"Enter the elems:\")\n",
    "        queue.append(element)\n",
    "        print(queue)\n",
    "    \n",
    "def dequeue():\n",
    "    if not queue:\n",
    "        print(\"queue is empty\")\n",
    "    else:\n",
    "        e = queue.pop(0)\n",
    "        print(\"Remove Element: \", e)\n",
    "        print(queue)\n",
    "        \n",
    "        \n",
    "def display():\n",
    "    print(queue)\n",
    "## While is using bcs it will run until i will quit the loop.\n",
    "## We can define no. of elements in the list\n",
    "## Range Defined stack\n",
    "\n",
    "n = int(input(\"limit of queue: \"))\n",
    "while True:\n",
    "    print(\"Select 1: Push, 2: Pop Element, 3: Display, 4: Quit\")\n",
    "    choice = int(input())\n",
    "    \n",
    "    if choice == 1:\n",
    "        enqueue()\n",
    "        \n",
    "    elif choice == 2:\n",
    "        dequeue()\n",
    "        \n",
    "    elif choice == 3:\n",
    "        display()\n",
    "    elif choice == 4:\n",
    "        break\n",
    "    else:\n",
    "        print(\"Enter the correct operation\")"
   ]
  },
  {
   "cell_type": "markdown",
   "id": "642eb7e8",
   "metadata": {},
   "source": [
    "## Same thing using module\n",
    "\n",
    "## Basically we have two module.\n",
    "**Collections ---> deque ==> Double Ended Queue**\n",
    "\n",
    "**Queue ---> LifoQueue**\n",
    "\n",
    "## Collections"
   ]
  },
  {
   "cell_type": "code",
   "execution_count": 14,
   "id": "27569143",
   "metadata": {},
   "outputs": [
    {
     "name": "stdout",
     "output_type": "stream",
     "text": [
      "deque([10, 20, 30, 40, 50])\n",
      "deque([10, 20, 30, 40])\n",
      "deque([10, 20, 30])\n",
      "deque([10, 20])\n",
      "deque([10])\n",
      "deque([])\n"
     ]
    }
   ],
   "source": [
    "import collections\n",
    "queue = collections.deque()\n",
    "queue.append(10)\n",
    "queue.append(20)\n",
    "queue.append(30)\n",
    "queue.append(40)\n",
    "queue.append(50)\n",
    "print(queue)\n",
    "\n",
    "\n",
    "try:\n",
    "    queue.pop()\n",
    "    print(queue)\n",
    "    queue.pop()\n",
    "    print(queue)\n",
    "    queue.pop()\n",
    "    print(queue)\n",
    "    queue.pop()\n",
    "    print(queue)\n",
    "    queue.pop()\n",
    "    print(queue)\n",
    "\n",
    "except IndexError:\n",
    "    print(\"empty list\")"
   ]
  },
  {
   "cell_type": "markdown",
   "id": "946817bf",
   "metadata": {},
   "source": [
    "## Queue"
   ]
  },
  {
   "cell_type": "code",
   "execution_count": 15,
   "id": "a017d60b",
   "metadata": {},
   "outputs": [
    {
     "name": "stdout",
     "output_type": "stream",
     "text": [
      "deque([50, 40, 30, 20, 10])\n",
      "deque([50, 40, 30, 20])\n",
      "deque([50, 40, 30])\n",
      "deque([50, 40])\n",
      "deque([50])\n",
      "deque([])\n"
     ]
    }
   ],
   "source": [
    "import collections\n",
    "queue = collections.deque()\n",
    "queue.appendleft(10)\n",
    "queue.appendleft(20)\n",
    "queue.appendleft(30)\n",
    "queue.appendleft(40)\n",
    "queue.appendleft(50)\n",
    "print(queue)\n",
    "\n",
    "\n",
    "try:\n",
    "    queue.pop()\n",
    "    print(queue)\n",
    "    queue.pop()\n",
    "    print(queue)\n",
    "    queue.pop()\n",
    "    print(queue)\n",
    "    queue.pop()\n",
    "    print(queue)\n",
    "    queue.pop()\n",
    "    print(queue)\n",
    "\n",
    "except IndexError:\n",
    "    print(\"empty list\")"
   ]
  },
  {
   "cell_type": "markdown",
   "id": "a0065ad0",
   "metadata": {},
   "source": [
    "## QUEUE\n"
   ]
  },
  {
   "cell_type": "code",
   "execution_count": 16,
   "id": "93e9400c",
   "metadata": {},
   "outputs": [
    {
     "name": "stdout",
     "output_type": "stream",
     "text": [
      "<queue.Queue object at 0x0000000005B08AC0>\n"
     ]
    }
   ],
   "source": [
    "import queue\n",
    "queue = queue.Queue(50)\n",
    "queue.put(10)\n",
    "queue.put(20)\n",
    "queue.put(30)\n",
    "queue.put(40)\n",
    "queue.put(50)\n",
    "print(queue)\n",
    "\n"
   ]
  },
  {
   "cell_type": "code",
   "execution_count": 17,
   "id": "c67d5682",
   "metadata": {},
   "outputs": [
    {
     "name": "stdout",
     "output_type": "stream",
     "text": [
      "<queue.Queue object at 0x0000000005B08AC0>\n",
      "<queue.Queue object at 0x0000000005B08AC0>\n",
      "<queue.Queue object at 0x0000000005B08AC0>\n",
      "<queue.Queue object at 0x0000000005B08AC0>\n",
      "<queue.Queue object at 0x0000000005B08AC0>\n"
     ]
    }
   ],
   "source": [
    "try:\n",
    "    queue.get()\n",
    "    print(queue)\n",
    "    queue.get()\n",
    "    print(queue)\n",
    "    queue.get()\n",
    "    print(queue)\n",
    "    queue.get()\n",
    "    print(queue)\n",
    "    queue.get()\n",
    "    print(queue)\n",
    "\n",
    "except IndexError:\n",
    "    print(\"empty list\")"
   ]
  },
  {
   "cell_type": "code",
   "execution_count": null,
   "id": "4202334c",
   "metadata": {},
   "outputs": [],
   "source": []
  }
 ],
 "metadata": {
  "kernelspec": {
   "display_name": "Python 3",
   "language": "python",
   "name": "python3"
  },
  "language_info": {
   "codemirror_mode": {
    "name": "ipython",
    "version": 3
   },
   "file_extension": ".py",
   "mimetype": "text/x-python",
   "name": "python",
   "nbconvert_exporter": "python",
   "pygments_lexer": "ipython3",
   "version": "3.8.8"
  }
 },
 "nbformat": 4,
 "nbformat_minor": 5
}
