{
 "cells": [
  {
   "cell_type": "markdown",
   "id": "fb0220ed",
   "metadata": {},
   "source": [
    "## List Implementation"
   ]
  },
  {
   "cell_type": "markdown",
   "id": "dff5941c",
   "metadata": {},
   "source": [
    "### `This is not the good way in rare case we can use it`"
   ]
  },
  {
   "cell_type": "code",
   "execution_count": 1,
   "id": "c8d61d3d",
   "metadata": {},
   "outputs": [
    {
     "data": {
      "text/plain": [
       "[10, 20, 30, 40, 50]"
      ]
     },
     "execution_count": 1,
     "metadata": {},
     "output_type": "execute_result"
    }
   ],
   "source": [
    "pri_que = []\n",
    "pri_que.append(10)\n",
    "pri_que.append(40)\n",
    "pri_que.sort()\n",
    "pri_que.append(20)\n",
    "pri_que.sort()\n",
    "pri_que.append(30)\n",
    "pri_que.sort()\n",
    "pri_que.append(50)\n",
    "pri_que"
   ]
  },
  {
   "cell_type": "code",
   "execution_count": 2,
   "id": "190b9ffb",
   "metadata": {},
   "outputs": [
    {
     "name": "stdout",
     "output_type": "stream",
     "text": [
      "[10, 20, 30, 40, 50]\n",
      "[20, 30, 40, 50]\n",
      "[30, 40, 50]\n",
      "[40, 50]\n",
      "[50]\n",
      "[]\n"
     ]
    }
   ],
   "source": [
    "print(pri_que)\n",
    "\n",
    "pri_que.pop(0)\n",
    "print(pri_que)\n",
    "\n",
    "pri_que.pop(0)\n",
    "print(pri_que)\n",
    "\n",
    "pri_que.pop(0)\n",
    "print(pri_que)\n",
    "\n",
    "pri_que.pop(0)\n",
    "print(pri_que)\n",
    "\n",
    "pri_que.pop(0)\n",
    "print(pri_que)\n",
    "\n"
   ]
  },
  {
   "cell_type": "markdown",
   "id": "236e7425",
   "metadata": {},
   "source": [
    "#### For eg there is 4 vehicle moving in the city, in the second last place there is an oxygen vehicle in second last place so  rest of the 3 vehicle will give the side bcz of the priority and emergency."
   ]
  },
  {
   "cell_type": "markdown",
   "id": "1dd1aa61",
   "metadata": {},
   "source": [
    "## Priotity "
   ]
  },
  {
   "cell_type": "code",
   "execution_count": 3,
   "id": "65310ba3",
   "metadata": {},
   "outputs": [],
   "source": [
    "import queue\n",
    "q = queue.PriorityQueue()\n",
    "q.put(20)\n",
    "q.put(40)\n",
    "q.put(30)\n",
    "q.put(60)\n",
    "q.put(40)\n",
    "q.put(10)\n"
   ]
  },
  {
   "cell_type": "code",
   "execution_count": 4,
   "id": "863f0def",
   "metadata": {},
   "outputs": [
    {
     "data": {
      "text/plain": [
       "60"
      ]
     },
     "execution_count": 4,
     "metadata": {},
     "output_type": "execute_result"
    }
   ],
   "source": [
    "q.get()\n",
    "q.get()\n",
    "q.get()\n",
    "q.get()\n",
    "q.get()\n",
    "q.get()"
   ]
  },
  {
   "cell_type": "code",
   "execution_count": null,
   "id": "dc0dd615",
   "metadata": {},
   "outputs": [],
   "source": [
    "q.get()"
   ]
  },
  {
   "cell_type": "code",
   "execution_count": 5,
   "id": "2776b859",
   "metadata": {},
   "outputs": [],
   "source": [
    "q = []\n",
    "\n",
    "q.append((1, 'alexa'))\n",
    "q.append((4, 'alex'))\n",
    "q.append((2, 'ale'))\n",
    "q.append((6, 'alx'))\n",
    "q.append((5, 'alxa'))\n",
    "q.sort(reverse = True)"
   ]
  },
  {
   "cell_type": "code",
   "execution_count": 6,
   "id": "8fb4a188",
   "metadata": {},
   "outputs": [
    {
     "data": {
      "text/plain": [
       "[(6, 'alx'), (5, 'alxa'), (4, 'alex'), (2, 'ale'), (1, 'alexa')]"
      ]
     },
     "execution_count": 6,
     "metadata": {},
     "output_type": "execute_result"
    }
   ],
   "source": [
    "q"
   ]
  },
  {
   "cell_type": "code",
   "execution_count": 7,
   "id": "33603d60",
   "metadata": {},
   "outputs": [
    {
     "name": "stdout",
     "output_type": "stream",
     "text": [
      "[(5, 'alxa'), (4, 'alex'), (2, 'ale'), (1, 'alexa')]\n",
      "[(4, 'alex'), (2, 'ale'), (1, 'alexa')]\n",
      "[(2, 'ale'), (1, 'alexa')]\n",
      "[(1, 'alexa')]\n",
      "[]\n"
     ]
    }
   ],
   "source": [
    "\n",
    "q.pop(0)\n",
    "print(q)\n",
    "q.pop(0)\n",
    "print(q)\n",
    "q.pop(0)\n",
    "print(q)\n",
    "q.pop(0)\n",
    "print(q)\n",
    "q.pop(0)\n",
    "print(q)"
   ]
  },
  {
   "cell_type": "code",
   "execution_count": null,
   "id": "0b725c95",
   "metadata": {},
   "outputs": [],
   "source": []
  }
 ],
 "metadata": {
  "kernelspec": {
   "display_name": "Python 3",
   "language": "python",
   "name": "python3"
  },
  "language_info": {
   "codemirror_mode": {
    "name": "ipython",
    "version": 3
   },
   "file_extension": ".py",
   "mimetype": "text/x-python",
   "name": "python",
   "nbconvert_exporter": "python",
   "pygments_lexer": "ipython3",
   "version": "3.8.8"
  }
 },
 "nbformat": 4,
 "nbformat_minor": 5
}
