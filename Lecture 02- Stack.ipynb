{
 "cells": [
  {
   "cell_type": "markdown",
   "id": "54bec968",
   "metadata": {},
   "source": [
    "## We can implement using two mehtods.\n",
    "## 1. `Using List`\n",
    "## 2. `Using Module`\n",
    "\n",
    "\n",
    "## Using List\n",
    "#### Here it is called user defined datastructures, Follows LIFO: Last In First Out, Thus we have top and base concept, Eg. Like if you have any urgency in the store of medical and you came last and there is one queue but you go directly and you will get hte medicine bcz of emergency. So you go there at last and come first.\n",
    "###    using pop()\n",
    "    [1, 2, 3, 4, 5] \n",
    "    [1, 2, 3, 4]\n",
    "    [1, 2, 3]\n",
    "    [1, 2]\n",
    "    [1]\n",
    "    []"
   ]
  },
  {
   "cell_type": "code",
   "execution_count": 29,
   "id": "9c24c6ed",
   "metadata": {},
   "outputs": [
    {
     "data": {
      "text/plain": [
       "[10, 20, 30, 40, 50]"
      ]
     },
     "execution_count": 29,
     "metadata": {},
     "output_type": "execute_result"
    }
   ],
   "source": [
    "stack = []\n",
    "stack.append(10)\n",
    "stack.append(20)\n",
    "stack.append(30)\n",
    "stack.append(40)\n",
    "stack.append(50)\n",
    "stack"
   ]
  },
  {
   "cell_type": "code",
   "execution_count": 30,
   "id": "1224a378",
   "metadata": {},
   "outputs": [
    {
     "name": "stdout",
     "output_type": "stream",
     "text": [
      "[10, 20, 30, 40]\n",
      "[10, 20, 30]\n",
      "[10, 20]\n",
      "[10]\n",
      "[]\n"
     ]
    }
   ],
   "source": [
    "\n",
    "try:\n",
    "    stack.pop()\n",
    "    print(stack)\n",
    "    stack.pop()\n",
    "    print(stack)\n",
    "    stack.pop()\n",
    "    print(stack)\n",
    "    stack.pop()\n",
    "    print(stack)\n",
    "    stack.pop()\n",
    "    print(stack)\n",
    "\n",
    "except IndexError:\n",
    "    print(\"empty list\")"
   ]
  },
  {
   "cell_type": "code",
   "execution_count": 32,
   "id": "5579b02d",
   "metadata": {},
   "outputs": [
    {
     "name": "stdout",
     "output_type": "stream",
     "text": [
      "Select 1: Push, 2: Pop Element, 3: Quit\n",
      "1\n",
      "Enter the elems:10\n",
      "Select 1: Push, 2: Pop Element, 3: Quit\n",
      "1\n",
      "Enter the elems:20\n",
      "Select 1: Push, 2: Pop Element, 3: Quit\n",
      "1\n",
      "Enter the elems:30\n",
      "Select 1: Push, 2: Pop Element, 3: Quit\n",
      "2\n",
      "Remove Element:  30\n",
      "['10', '20']\n",
      "Select 1: Push, 2: Pop Element, 3: Quit\n",
      "2\n",
      "Remove Element:  20\n",
      "['10']\n",
      "Select 1: Push, 2: Pop Element, 3: Quit\n",
      "2\n",
      "Remove Element:  10\n",
      "[]\n",
      "Select 1: Push, 2: Pop Element, 3: Quit\n",
      "2\n",
      "stack is empty\n",
      "Select 1: Push, 2: Pop Element, 3: Quit\n",
      "3\n"
     ]
    }
   ],
   "source": [
    "stack = []\n",
    "def push():\n",
    "    element = input(\"Enter the elems:\")\n",
    "    stack.append(element)\n",
    "    \n",
    "def pop_elems():\n",
    "    if not stack:\n",
    "        print(\"stack is empty\")\n",
    "    else:\n",
    "        e = stack.pop()\n",
    "        print(\"Remove Element: \", e)\n",
    "        print(stack)\n",
    "        \n",
    "## While is using bcs it will run until i will quit the loop.\n",
    "\n",
    "while True:\n",
    "    print(\"Select 1: Push, 2: Pop Element, 3: Quit\")\n",
    "    choice = int(input())\n",
    "    \n",
    "    if choice == 1:\n",
    "        push()\n",
    "        \n",
    "    elif choice == 2:\n",
    "        pop_elems()\n",
    "        \n",
    "    elif choice == 3:\n",
    "        break\n",
    "    \n",
    "    else:\n",
    "        print(\"Enter the correct operation\")"
   ]
  },
  {
   "cell_type": "code",
   "execution_count": 33,
   "id": "3101e4b9",
   "metadata": {},
   "outputs": [
    {
     "name": "stdout",
     "output_type": "stream",
     "text": [
      "limit of stack: 5\n",
      "Select 1: Push, 2: Pop Element, 3: Quit\n",
      "1\n",
      "Enter the elems:1\n",
      "['1']\n",
      "Select 1: Push, 2: Pop Element, 3: Quit\n",
      "1\n",
      "Enter the elems:2\n",
      "['1', '2']\n",
      "Select 1: Push, 2: Pop Element, 3: Quit\n",
      "1\n",
      "Enter the elems:3\n",
      "['1', '2', '3']\n",
      "Select 1: Push, 2: Pop Element, 3: Quit\n",
      "1\n",
      "Enter the elems:4\n",
      "['1', '2', '3', '4']\n",
      "Select 1: Push, 2: Pop Element, 3: Quit\n",
      "1\n",
      "Enter the elems:5\n",
      "['1', '2', '3', '4', '5']\n",
      "Select 1: Push, 2: Pop Element, 3: Quit\n",
      "1\n",
      "List is full\n",
      "Select 1: Push, 2: Pop Element, 3: Quit\n",
      "2\n",
      "Remove Element:  5\n",
      "['1', '2', '3', '4']\n",
      "Select 1: Push, 2: Pop Element, 3: Quit\n",
      "2\n",
      "Remove Element:  4\n",
      "['1', '2', '3']\n",
      "Select 1: Push, 2: Pop Element, 3: Quit\n",
      "2\n",
      "Remove Element:  3\n",
      "['1', '2']\n",
      "Select 1: Push, 2: Pop Element, 3: Quit\n",
      "2\n",
      "Remove Element:  2\n",
      "['1']\n",
      "Select 1: Push, 2: Pop Element, 3: Quit\n",
      "2\n",
      "Remove Element:  1\n",
      "[]\n",
      "Select 1: Push, 2: Pop Element, 3: Quit\n",
      "2\n",
      "stack is empty\n",
      "Select 1: Push, 2: Pop Element, 3: Quit\n",
      "2\n",
      "stack is empty\n",
      "Select 1: Push, 2: Pop Element, 3: Quit\n",
      "2\n",
      "stack is empty\n",
      "Select 1: Push, 2: Pop Element, 3: Quit\n",
      "2\n",
      "stack is empty\n",
      "Select 1: Push, 2: Pop Element, 3: Quit\n",
      "3\n"
     ]
    }
   ],
   "source": [
    "stack = []\n",
    "def push():\n",
    "    \n",
    "    if len(stack) == n:\n",
    "        print(\"List is full\")\n",
    "    else:\n",
    "        element = input(\"Enter the elems:\")\n",
    "        stack.append(element)\n",
    "        print(stack)\n",
    "    \n",
    "def pop_elems():\n",
    "    if not stack:\n",
    "        print(\"stack is empty\")\n",
    "    else:\n",
    "        e = stack.pop()\n",
    "        print(\"Remove Element: \", e)\n",
    "        print(stack)\n",
    "        \n",
    "## While is using bcs it will run until i will quit the loop.\n",
    "## We can define no. of elements in the list\n",
    "## Range Defined stack\n",
    "\n",
    "n = int(input(\"limit of stack: \"))\n",
    "while True:\n",
    "    print(\"Select 1: Push, 2: Pop Element, 3: Quit\")\n",
    "    choice = int(input())\n",
    "    \n",
    "    if choice == 1:\n",
    "        push()\n",
    "        \n",
    "    elif choice == 2:\n",
    "        pop_elems()\n",
    "        \n",
    "    elif choice == 3:\n",
    "        break\n",
    "    \n",
    "    else:\n",
    "        print(\"Enter the correct operation\")"
   ]
  },
  {
   "cell_type": "markdown",
   "id": "38de6fb0",
   "metadata": {},
   "source": [
    "## Same thing using module\n",
    "\n",
    "## Basically we have two module.\n",
    "**Collections ---> deque ==> Double Ended Queue**\n",
    "\n",
    "**Queue ---> LifoQueue**\n",
    "\n",
    "## Collections"
   ]
  },
  {
   "cell_type": "code",
   "execution_count": 56,
   "id": "2067cc69",
   "metadata": {},
   "outputs": [
    {
     "name": "stdout",
     "output_type": "stream",
     "text": [
      "deque([50, 40, 30, 20, 10])\n",
      "deque([50, 40, 30, 20])\n",
      "deque([50, 40, 30])\n",
      "deque([50, 40])\n",
      "deque([50])\n",
      "deque([])\n"
     ]
    }
   ],
   "source": [
    "import collections\n",
    "stack = collections.deque()\n",
    "stack.append(10)\n",
    "stack.append(20)\n",
    "stack.append(30)\n",
    "stack.append(40)\n",
    "stack.append(50)\n",
    "print(stack)\n",
    "\n",
    "\n",
    "try:\n",
    "    stack.pop()\n",
    "    print(stack)\n",
    "    stack.pop()\n",
    "    print(stack)\n",
    "    stack.pop()\n",
    "    print(stack)\n",
    "    stack.pop()\n",
    "    print(stack)\n",
    "    stack.pop()\n",
    "    print(stack)\n",
    "\n",
    "except IndexError:\n",
    "    print(\"empty list\")"
   ]
  },
  {
   "cell_type": "markdown",
   "id": "6f4a45e5",
   "metadata": {},
   "source": [
    "## Queue"
   ]
  },
  {
   "cell_type": "code",
   "execution_count": 58,
   "id": "699b97df",
   "metadata": {},
   "outputs": [
    {
     "name": "stdout",
     "output_type": "stream",
     "text": [
      "<queue.Queue object at 0x0000000008A66850>\n"
     ]
    }
   ],
   "source": [
    "import queue\n",
    "stack = queue.LifoQueue(50)\n",
    "stack.put(10)\n",
    "stack.put(20)\n",
    "stack.put(30)\n",
    "stack.put(40)\n",
    "stack.put(50)\n",
    "print(stack)\n",
    "\n",
    "\n"
   ]
  },
  {
   "cell_type": "code",
   "execution_count": 59,
   "id": "9d8293b4",
   "metadata": {},
   "outputs": [
    {
     "name": "stdout",
     "output_type": "stream",
     "text": [
      "<queue.Queue object at 0x0000000008A66850>\n",
      "<queue.Queue object at 0x0000000008A66850>\n",
      "<queue.Queue object at 0x0000000008A66850>\n",
      "<queue.Queue object at 0x0000000008A66850>\n",
      "<queue.Queue object at 0x0000000008A66850>\n"
     ]
    }
   ],
   "source": [
    "try:\n",
    "    stack.get()\n",
    "    print(stack)\n",
    "    stack.get()\n",
    "    print(stack)\n",
    "    stack.get()\n",
    "    print(stack)\n",
    "    stack.get()\n",
    "    print(stack)\n",
    "    stack.get()\n",
    "    print(stack)\n",
    "\n",
    "except IndexError:\n",
    "    print(\"empty list\")"
   ]
  },
  {
   "cell_type": "code",
   "execution_count": 50,
   "id": "5b0d0279",
   "metadata": {},
   "outputs": [
    {
     "data": {
      "text/plain": [
       "<queue.LifoQueue at 0x94729d0>"
      ]
     },
     "execution_count": 50,
     "metadata": {},
     "output_type": "execute_result"
    }
   ],
   "source": [
    "(stack)"
   ]
  },
  {
   "cell_type": "code",
   "execution_count": 52,
   "id": "66478268",
   "metadata": {},
   "outputs": [],
   "source": [
    "stack.put(10)"
   ]
  },
  {
   "cell_type": "code",
   "execution_count": 55,
   "id": "f241f622",
   "metadata": {},
   "outputs": [],
   "source": [
    "stack.task_done()"
   ]
  },
  {
   "cell_type": "code",
   "execution_count": null,
   "id": "d4132064",
   "metadata": {},
   "outputs": [],
   "source": []
  }
 ],
 "metadata": {
  "kernelspec": {
   "display_name": "Python 3",
   "language": "python",
   "name": "python3"
  },
  "language_info": {
   "codemirror_mode": {
    "name": "ipython",
    "version": 3
   },
   "file_extension": ".py",
   "mimetype": "text/x-python",
   "name": "python",
   "nbconvert_exporter": "python",
   "pygments_lexer": "ipython3",
   "version": "3.8.8"
  }
 },
 "nbformat": 4,
 "nbformat_minor": 5
}
