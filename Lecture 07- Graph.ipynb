{
 "cells": [
  {
   "cell_type": "markdown",
   "id": "29f66088",
   "metadata": {},
   "source": [
    "## Graph\n",
    "## `Insertion`"
   ]
  },
  {
   "cell_type": "code",
   "execution_count": 1,
   "id": "32a8e819",
   "metadata": {},
   "outputs": [
    {
     "name": "stdout",
     "output_type": "stream",
     "text": [
      "before adding nodes\n",
      "nodes: [] \n",
      "graph: []\n",
      "after adding nodes\n",
      "nodes: ['A', 'B'] \n",
      "graph: [[0, 0], [0, 0]]\n"
     ]
    }
   ],
   "source": [
    "node_count = 0 # globale variable\n",
    "def add_node(v):\n",
    "    global node_count\n",
    "    if v in nodes:\n",
    "        print(f\"{v} already present in graph\")\n",
    "    else:\n",
    "        node_count = node_count + 1\n",
    "        nodes.append(v)\n",
    "        for n in graph:\n",
    "            n.append(0)\n",
    "        temp = []\n",
    "        for i in range(node_count):\n",
    "            temp.append(0)\n",
    "        graph.append(temp)\n",
    "\n",
    "nodes = []\n",
    "graph = []\n",
    "print(\"before adding nodes\")\n",
    "print(f\"nodes: {nodes} \\ngraph: {graph}\")\n",
    "add_node(\"A\")\n",
    "# add_node(\"A\")\n",
    "add_node(\"B\")\n",
    "\n",
    "print(\"after adding nodes\")\n",
    "print(f\"nodes: {nodes} \\ngraph: {graph}\")"
   ]
  },
  {
   "cell_type": "code",
   "execution_count": null,
   "id": "90a7117c",
   "metadata": {},
   "outputs": [],
   "source": []
  },
  {
   "cell_type": "markdown",
   "id": "c24b0047",
   "metadata": {},
   "source": [
    "## `Add Edge` : Unweighted, Undirected"
   ]
  },
  {
   "cell_type": "code",
   "execution_count": 2,
   "id": "c199051b",
   "metadata": {},
   "outputs": [
    {
     "name": "stdout",
     "output_type": "stream",
     "text": [
      "before adding nodes\n",
      "nodes: [] \n",
      "graph: []\n",
      "0 0 1 \n",
      "0 0 0 \n",
      "1 0 0 \n"
     ]
    }
   ],
   "source": [
    "node_count = 0 # globale variable\n",
    "def add_node(v):\n",
    "    global node_count\n",
    "    if v in nodes:\n",
    "        print(f\"{v} already present in graph\")\n",
    "    else:\n",
    "        node_count = node_count + 1\n",
    "        nodes.append(v)\n",
    "        for n in graph:\n",
    "            n.append(0)\n",
    "        temp = []\n",
    "        for i in range(node_count):\n",
    "            temp.append(0)\n",
    "        graph.append(temp)\n",
    "\n",
    "def add_edge(v1,v2):\n",
    "    if v1 not in nodes:\n",
    "        print(f\"{v1} Is not present\")    \n",
    "    elif v2 not in nodes:\n",
    "        print(f\"{v2} Is not present\")\n",
    "    else:\n",
    "        index1 = nodes.index(v1)\n",
    "        index2 = nodes.index(v2)\n",
    "        graph[index1][index2] = 1\n",
    "        graph[index2][index1] = 1\n",
    "        \n",
    "        \n",
    "def print_graph():\n",
    "    for i in range(node_count):\n",
    "        for j in range(node_count):\n",
    "            print(graph[i][j], end =\" \")\n",
    "        print()\n",
    "\n",
    "        \n",
    "nodes = []\n",
    "graph = []\n",
    "print(\"before adding nodes\")\n",
    "print(f\"nodes: {nodes} \\ngraph: {graph}\")\n",
    "add_node(\"A\")\n",
    "# add_node(\"A\")\n",
    "add_node(\"B\")\n",
    "add_node(\"C\")\n",
    "add_edge(\"A\", \"C\")\n",
    "print_graph()"
   ]
  },
  {
   "cell_type": "code",
   "execution_count": null,
   "id": "e35da7f4",
   "metadata": {},
   "outputs": [],
   "source": []
  },
  {
   "cell_type": "markdown",
   "id": "a1372713",
   "metadata": {},
   "source": [
    "## `Add Edge`: Weighted, Undirected"
   ]
  },
  {
   "cell_type": "code",
   "execution_count": 3,
   "id": "e15cc6c6",
   "metadata": {},
   "outputs": [
    {
     "name": "stdout",
     "output_type": "stream",
     "text": [
      "before adding nodes\n",
      "nodes: [] \n",
      "graph: []\n",
      "D Is not present\n",
      "0 2 10 \n",
      "2 0 0 \n",
      "10 0 0 \n"
     ]
    }
   ],
   "source": [
    "node_count = 0 # globale variable\n",
    "def add_node(v):\n",
    "    global node_count\n",
    "    if v in nodes:\n",
    "        print(f\"{v} already present in graph\")\n",
    "    else:\n",
    "        node_count = node_count + 1\n",
    "        nodes.append(v)\n",
    "        for n in graph:\n",
    "            n.append(0)\n",
    "        temp = []\n",
    "        for i in range(node_count):\n",
    "            temp.append(0)\n",
    "        graph.append(temp)\n",
    "\n",
    "def add_edge_wt(v1,v2, cost):\n",
    "    if v1 not in nodes:\n",
    "        print(f\"{v1} Is not present\")    \n",
    "    elif v2 not in nodes:\n",
    "        print(f\"{v2} Is not present\")\n",
    "    else:\n",
    "        index1 = nodes.index(v1)\n",
    "        index2 = nodes.index(v2)\n",
    "        graph[index1][index2] = cost\n",
    "        graph[index2][index1] = cost\n",
    "        \n",
    "        \n",
    "def print_graph():\n",
    "    for i in range(node_count):\n",
    "        for j in range(node_count):\n",
    "            print(graph[i][j], end =\" \")\n",
    "        print()\n",
    "\n",
    "nodes = []\n",
    "graph = []\n",
    "print(\"before adding nodes\")\n",
    "print(f\"nodes: {nodes} \\ngraph: {graph}\")\n",
    "add_node(\"A\")\n",
    "# add_node(\"A\")\n",
    "add_node(\"B\")\n",
    "add_node(\"C\")\n",
    "add_edge_wt(\"A\", \"C\", 10)\n",
    "add_edge_wt(\"A\", \"B\", 2)\n",
    "add_edge_wt(\"A\", \"D\", 2)\n",
    "\n",
    "print_graph()"
   ]
  },
  {
   "cell_type": "code",
   "execution_count": null,
   "id": "10384743",
   "metadata": {},
   "outputs": [],
   "source": []
  },
  {
   "cell_type": "markdown",
   "id": "6eec70a4",
   "metadata": {},
   "source": [
    "## `Add Edge`: Weight, Directed"
   ]
  },
  {
   "cell_type": "code",
   "execution_count": 4,
   "id": "91412633",
   "metadata": {},
   "outputs": [
    {
     "name": "stdout",
     "output_type": "stream",
     "text": [
      "before adding nodes\n",
      "nodes: [] \n",
      "graph: []\n",
      "0 2 10 \n",
      "0 0 0 \n",
      "0 0 0 \n"
     ]
    }
   ],
   "source": [
    "node_count = 0 # globale variable\n",
    "def add_node(v):\n",
    "    global node_count\n",
    "    if v in nodes:\n",
    "        print(f\"{v} already present in graph\")\n",
    "    else:\n",
    "        node_count = node_count + 1\n",
    "        nodes.append(v)\n",
    "        for n in graph:\n",
    "            n.append(0)\n",
    "        temp = []\n",
    "        for i in range(node_count):\n",
    "            temp.append(0)\n",
    "        graph.append(temp)\n",
    "\n",
    "def add_edge_wt(v1,v2, cost):\n",
    "    if v1 not in nodes:\n",
    "        print(f\"{v1} Is not present\")    \n",
    "    elif v2 not in nodes:\n",
    "        print(f\"{v2} Is not present\")\n",
    "    else:\n",
    "        index1 = nodes.index(v1)\n",
    "        index2 = nodes.index(v2)\n",
    "        graph[index1][index2] = cost\n",
    "#         graph[index2][index1] = cost\n",
    "        \n",
    "        \n",
    "def print_graph():\n",
    "    for i in range(node_count):\n",
    "        for j in range(node_count):\n",
    "            print(graph[i][j], end =\" \")\n",
    "        print()\n",
    "\"\"\"\n",
    "We changed only in place of graph[index2][index1] we dont need this because graph is directed\n",
    "You can see in the output we are direct values means check at \n",
    "graph is directed by just looking at the values.\n",
    "These are present like A connect to B and C only \n",
    "But B and C is not directed to A and \n",
    "also it is weighted.\n",
    "\"\"\"\n",
    "nodes = []\n",
    "graph = []\n",
    "print(\"before adding nodes\")\n",
    "print(f\"nodes: {nodes} \\ngraph: {graph}\")\n",
    "add_node(\"A\")\n",
    "# add_node(\"A\")\n",
    "add_node(\"B\")\n",
    "add_node(\"C\")\n",
    "add_edge_wt(\"A\", \"C\", 10)\n",
    "add_edge_wt(\"A\", \"B\", 2)\n",
    "# add_edge_wt(\"A\", \"D\", 2)\n",
    "\n",
    "print_graph()\n",
    "\n",
    "\n"
   ]
  },
  {
   "cell_type": "markdown",
   "id": "f5bf2891",
   "metadata": {},
   "source": [
    "## `Add Edge`: Directed, Unweight"
   ]
  },
  {
   "cell_type": "code",
   "execution_count": 5,
   "id": "f7e02b5a",
   "metadata": {},
   "outputs": [
    {
     "name": "stdout",
     "output_type": "stream",
     "text": [
      "before adding nodes\n",
      "nodes: [] \n",
      "graph: []\n",
      "A,B,C\n",
      "0 1 1 \n",
      "0 0 0 \n",
      "0 0 0 \n"
     ]
    }
   ],
   "source": [
    "node_count = 0 # globale variable\n",
    "def add_node(v):\n",
    "    global node_count\n",
    "    if v in nodes:\n",
    "        print(f\"{v} already present in graph\")\n",
    "    else:\n",
    "        node_count = node_count + 1\n",
    "        nodes.append(v)\n",
    "        for n in graph:\n",
    "            n.append(0)\n",
    "        temp = []\n",
    "        for i in range(node_count):\n",
    "            temp.append(0)\n",
    "        graph.append(temp)\n",
    "\n",
    "def add_edge_wt(v1,v2):\n",
    "    if v1 not in nodes:\n",
    "        print(f\"{v1} Is not present\")    \n",
    "    elif v2 not in nodes:\n",
    "        print(f\"{v2} Is not present\")\n",
    "    else:\n",
    "        index1 = nodes.index(v1)\n",
    "        index2 = nodes.index(v2)\n",
    "        graph[index1][index2] = 1\n",
    "#         graph[index2][index1] = cost\n",
    "        \n",
    "        \n",
    "def print_graph():\n",
    "    for i in range(node_count):\n",
    "        for j in range(node_count):\n",
    "            print(graph[i][j], end =\" \")\n",
    "        print()\n",
    "\n",
    "\"\"\"\n",
    "We changed only in place of graph[index2][index1] \n",
    "we dont need this because graph is directed and \n",
    "Also changed cost to 1 because of unweighted\n",
    "You can see in the output we are direct values means check at \n",
    "graph is directed by just looking at the values.\n",
    "These are present like A connect to B and C only But B and C is not directed to A \n",
    "and also it is unweighted.\n",
    "\"\"\"\n",
    "nodes = []\n",
    "graph = []\n",
    "print(\"before adding nodes\")\n",
    "print(f\"nodes: {nodes} \\ngraph: {graph}\")\n",
    "add_node(\"A\")\n",
    "# add_node(\"A\")\n",
    "add_node(\"B\")\n",
    "add_node(\"C\")\n",
    "add_edge_wt(\"A\", \"C\")\n",
    "add_edge_wt(\"A\", \"B\")\n",
    "# add_edge_wt(\"A\", \"D\", 2)\n",
    "print(\"A,B,C\")\n",
    "print_graph()\n",
    "\n",
    "\n"
   ]
  },
  {
   "cell_type": "markdown",
   "id": "243f691b",
   "metadata": {},
   "source": [
    "## `Using Adjancency list means using graph = {}`\n",
    "## `Add_node`"
   ]
  },
  {
   "cell_type": "code",
   "execution_count": 6,
   "id": "3c6d1cc1",
   "metadata": {},
   "outputs": [
    {
     "name": "stdout",
     "output_type": "stream",
     "text": [
      "{'A': [], 'B': [], 'C': []}\n"
     ]
    }
   ],
   "source": [
    "graph = {}\n",
    "def add_node(v):\n",
    "    if v in graph:\n",
    "        print(f\"{v} already present in graph.\")\n",
    "    else:\n",
    "        graph[v] = []\n",
    "add_node(\"A\")\n",
    "add_node(\"B\")\n",
    "add_node(\"C\")\n",
    "print(graph)"
   ]
  },
  {
   "cell_type": "markdown",
   "id": "7c01965c",
   "metadata": {},
   "source": [
    "## `Add_Edge`: Undirected and Unweighted"
   ]
  },
  {
   "cell_type": "code",
   "execution_count": 7,
   "id": "9281220e",
   "metadata": {},
   "outputs": [
    {
     "name": "stdout",
     "output_type": "stream",
     "text": [
      "{'A': ['B', 'C', 'D'], 'B': ['A', 'E'], 'C': ['A', 'D'], 'D': ['A', 'C', 'E'], 'E': ['B', 'D']}\n"
     ]
    }
   ],
   "source": [
    "def add_node(v):\n",
    "    if v in graph:\n",
    "        print(f\"{v} already present in graph.\")\n",
    "    else:\n",
    "        graph[v] = []\n",
    "def add_edge(v1,v2):\n",
    "    if v1 not in graph:\n",
    "        print(f\"{v1} is not present in graph\")\n",
    "    elif v2 not in graph:\n",
    "        print(f\"{v2} is not present in graph\")\n",
    "    else:\n",
    "        graph[v1].append(v2)\n",
    "        graph[v2].append(v1)\n",
    "        \n",
    "graph = {}\n",
    "add_node(\"A\")\n",
    "add_node(\"B\")\n",
    "add_node(\"C\")\n",
    "add_node(\"D\")\n",
    "add_node(\"E\")\n",
    "\n",
    "add_edge(\"A\", \"B\")\n",
    "add_edge(\"A\", \"C\")\n",
    "add_edge(\"A\", \"D\")\n",
    "add_edge(\"B\", \"E\")\n",
    "add_edge(\"C\", \"D\")\n",
    "add_edge(\"E\", \"D\")\n",
    "\n",
    "\n",
    "print(graph)"
   ]
  },
  {
   "cell_type": "markdown",
   "id": "09444c9f",
   "metadata": {},
   "source": [
    "## `Add_Edge`: Undirected and Weighted"
   ]
  },
  {
   "cell_type": "code",
   "execution_count": 8,
   "id": "a2d8116e",
   "metadata": {},
   "outputs": [
    {
     "data": {
      "text/plain": [
       "{'A': [['B', 10], ['C', 5], ['D', 4]],\n",
       " 'B': [['A', 10], ['D', 7], ['E', 3]],\n",
       " 'C': [['A', 5], ['D', 1]],\n",
       " 'D': [['A', 4], ['B', 7], ['C', 1], ['E', 2]],\n",
       " 'E': [['B', 3], ['D', 2]]}"
      ]
     },
     "execution_count": 8,
     "metadata": {},
     "output_type": "execute_result"
    }
   ],
   "source": [
    "def add_node(v):\n",
    "    if v in graph:\n",
    "        print(f\"{v} already present in graph.\")\n",
    "    else:\n",
    "        graph[v] = []\n",
    "def add_edge(v1,v2, cost):\n",
    "    if v1 not in graph:\n",
    "        print(f\"{v1} is not present in graph\")\n",
    "    elif v2 not in graph:\n",
    "        print(f\"{v2} is not present in graph\")\n",
    "    else:\n",
    "        list1 = [v2, cost]\n",
    "        list2 = [v1, cost]\n",
    "        \n",
    "        graph[v1].append(list1)\n",
    "        graph[v2].append(list2)\n",
    "        \n",
    "graph = {}\n",
    "add_node(\"A\")\n",
    "add_node(\"B\")\n",
    "add_node(\"C\")\n",
    "add_node(\"D\")\n",
    "add_node(\"E\")\n",
    "\n",
    "add_edge(\"A\", \"B\", 10)\n",
    "add_edge(\"A\", \"C\",5)\n",
    "add_edge(\"A\", \"D\",4)\n",
    "add_edge(\"B\", \"D\",7)\n",
    "add_edge(\"B\", \"E\",3)\n",
    "add_edge(\"C\", \"D\",1)\n",
    "add_edge(\"E\", \"D\",2)\n",
    "\n",
    "graph"
   ]
  },
  {
   "cell_type": "markdown",
   "id": "bdd1458b",
   "metadata": {},
   "source": [
    "## `Add_Edge`: Directed and Weighted"
   ]
  },
  {
   "cell_type": "code",
   "execution_count": 9,
   "id": "b166bb92",
   "metadata": {},
   "outputs": [
    {
     "data": {
      "text/plain": [
       "{'A': [['B', 10], ['C', 5], ['D', 4]],\n",
       " 'B': [['D', 7], ['E', 3]],\n",
       " 'C': [['D', 1]],\n",
       " 'D': [],\n",
       " 'E': [['D', 2]]}"
      ]
     },
     "execution_count": 9,
     "metadata": {},
     "output_type": "execute_result"
    }
   ],
   "source": [
    "def add_node(v):\n",
    "    if v in graph:\n",
    "        print(f\"{v} already present in graph.\")\n",
    "    else:\n",
    "        graph[v] = []\n",
    "def add_edge(v1,v2, cost):\n",
    "    if v1 not in graph:\n",
    "        print(f\"{v1} is not present in graph\")\n",
    "    elif v2 not in graph:\n",
    "        print(f\"{v2} is not present in graph\")\n",
    "    else:\n",
    "        list1 = [v2, cost]\n",
    "#         list2 = [v1, cost]\n",
    "        \n",
    "        graph[v1].append(list1)\n",
    "#         graph[v2].append(list2)\n",
    "        \n",
    "graph = {}\n",
    "add_node(\"A\")\n",
    "add_node(\"B\")\n",
    "add_node(\"C\")\n",
    "add_node(\"D\")\n",
    "add_node(\"E\")\n",
    "\n",
    "add_edge(\"A\", \"B\", 10)\n",
    "add_edge(\"A\", \"C\",5)\n",
    "add_edge(\"A\", \"D\",4)\n",
    "add_edge(\"B\", \"D\",7)\n",
    "add_edge(\"B\", \"E\",3)\n",
    "add_edge(\"C\", \"D\",1)\n",
    "add_edge(\"E\", \"D\",2)\n",
    "\n",
    "graph"
   ]
  },
  {
   "cell_type": "markdown",
   "id": "63bde3e2",
   "metadata": {},
   "source": [
    "## `Add_Edge`: Directed and Unweighted"
   ]
  },
  {
   "cell_type": "code",
   "execution_count": 10,
   "id": "a0cc0223",
   "metadata": {},
   "outputs": [
    {
     "data": {
      "text/plain": [
       "{'A': ['B', 'C', 'D'], 'B': ['D', 'E'], 'C': ['D'], 'D': [], 'E': ['D']}"
      ]
     },
     "execution_count": 10,
     "metadata": {},
     "output_type": "execute_result"
    }
   ],
   "source": [
    "def add_node(v):\n",
    "    if v in graph:\n",
    "        print(f\"{v} already present in graph.\")\n",
    "    else:\n",
    "        graph[v] = []\n",
    "def add_edge(v1,v2):\n",
    "    if v1 not in graph:\n",
    "        print(f\"{v1} is not present in graph\")\n",
    "    elif v2 not in graph:\n",
    "        print(f\"{v2} is not present in graph\")\n",
    "    else:\n",
    "#         list1 = [v2, cost]\n",
    "#         list2 = [v1, cost]\n",
    "        \n",
    "        graph[v1].append(v2)\n",
    "#         graph[v2].append(list2)\n",
    "        \n",
    "graph = {}\n",
    "add_node(\"A\")\n",
    "add_node(\"B\")\n",
    "add_node(\"C\")\n",
    "add_node(\"D\")\n",
    "add_node(\"E\")\n",
    "\n",
    "add_edge(\"A\", \"B\")\n",
    "add_edge(\"A\", \"C\")\n",
    "add_edge(\"A\", \"D\")\n",
    "add_edge(\"B\", \"D\")\n",
    "add_edge(\"B\", \"E\")\n",
    "add_edge(\"C\", \"D\")\n",
    "add_edge(\"E\", \"D\")\n",
    "\n",
    "graph"
   ]
  },
  {
   "cell_type": "markdown",
   "id": "83304bbc",
   "metadata": {},
   "source": [
    "## `Deletion Operation`: Unweighted Undirected"
   ]
  },
  {
   "cell_type": "code",
   "execution_count": 13,
   "id": "04ccc3f6",
   "metadata": {},
   "outputs": [
    {
     "data": {
      "text/plain": [
       "{'A': ['B', 'C', 'D'],\n",
       " 'B': ['A', 'D', 'E'],\n",
       " 'C': ['A', 'D'],\n",
       " 'D': ['A', 'B', 'C', 'E'],\n",
       " 'E': ['B', 'D']}"
      ]
     },
     "execution_count": 13,
     "metadata": {},
     "output_type": "execute_result"
    }
   ],
   "source": [
    "def add_node(v):\n",
    "    if v in graph:\n",
    "        print(f\"{v} already present in graph.\")\n",
    "    else:\n",
    "        graph[v] = []\n",
    "def add_edge(v1,v2):\n",
    "    if v1 not in graph:\n",
    "        print(f\"{v1} is not present in graph\")\n",
    "    elif v2 not in graph:\n",
    "        print(f\"{v2} is not present in graph\")\n",
    "    else:\n",
    "        graph[v1].append(v2)\n",
    "        graph[v2].append(v1)\n",
    "        \n",
    "\n",
    "def delete_edge(v1,v2):\n",
    "    if v1 not in graph or v2 not in graph:\n",
    "        print(v1, v2 ,'not in the graph')\n",
    "        \n",
    "    else:\n",
    "        if v2 in graph[v1]:\n",
    "            graph[v1].remove(v2)\n",
    "            graph[v2].remove(v1)\n",
    "graph = {}\n",
    "add_node(\"A\")\n",
    "add_node(\"B\")\n",
    "add_node(\"C\")\n",
    "add_node(\"D\")\n",
    "add_node(\"E\")\n",
    "\n",
    "add_edge(\"A\", \"B\")\n",
    "add_edge(\"A\", \"C\")\n",
    "add_edge(\"A\", \"D\")\n",
    "add_edge(\"B\", \"D\")\n",
    "add_edge(\"B\", \"E\")\n",
    "add_edge(\"C\", \"D\")\n",
    "add_edge(\"E\", \"D\")\n",
    "\n",
    "graph"
   ]
  },
  {
   "cell_type": "code",
   "execution_count": 14,
   "id": "62d5f5f3",
   "metadata": {},
   "outputs": [],
   "source": [
    "delete_edge('C',\"D\")"
   ]
  },
  {
   "cell_type": "code",
   "execution_count": 15,
   "id": "45ab0c19",
   "metadata": {},
   "outputs": [
    {
     "data": {
      "text/plain": [
       "{'A': ['B', 'C', 'D'],\n",
       " 'B': ['A', 'D', 'E'],\n",
       " 'C': ['A'],\n",
       " 'D': ['A', 'B', 'E'],\n",
       " 'E': ['B', 'D']}"
      ]
     },
     "execution_count": 15,
     "metadata": {},
     "output_type": "execute_result"
    }
   ],
   "source": [
    "graph"
   ]
  },
  {
   "cell_type": "code",
   "execution_count": null,
   "id": "20df8647",
   "metadata": {},
   "outputs": [],
   "source": []
  }
 ],
 "metadata": {
  "kernelspec": {
   "display_name": "Python 3",
   "language": "python",
   "name": "python3"
  },
  "language_info": {
   "codemirror_mode": {
    "name": "ipython",
    "version": 3
   },
   "file_extension": ".py",
   "mimetype": "text/x-python",
   "name": "python",
   "nbconvert_exporter": "python",
   "pygments_lexer": "ipython3",
   "version": "3.8.8"
  }
 },
 "nbformat": 4,
 "nbformat_minor": 5
}
